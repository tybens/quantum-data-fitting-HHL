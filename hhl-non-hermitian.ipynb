{
 "cells": [
  {
   "attachments": {},
   "cell_type": "markdown",
   "metadata": {},
   "source": [
    "# ECE 396 - HHL Algorithm\n",
    "## Preparing the 3x3 invertible, non-hermitian A for HHL. "
   ]
  },
  {
   "cell_type": "code",
   "execution_count": 2,
   "metadata": {},
   "outputs": [],
   "source": [
    "import numpy as np\n",
    "\n"
   ]
  },
  {
   "cell_type": "markdown",
   "metadata": {},
   "source": [
    "We need to define a 3 x 3 invertible but non-hermitian A in Qiskit. That is, the following two qualities must hold:\n",
    "$$AA^{-1} = A^{-1}A = I_n$$\n",
    "$$A \\neq A^{\\dag}$$\n",
    "If we restric ourselves to only real values, the matrix we can choose must then follow the two qualities: invertible and $A\\neq A^T$.\n",
    "\n",
    "One such matrix is the following:\n",
    "\n",
    "$$A = \\Bigg(\\begin{matrix}\n",
    "    1 & 0 & 0 \\\\\n",
    "    0 & 1 & 0 \\\\\n",
    "    0 & 1 & 1 \n",
    "\\end{matrix}\\Bigg)$$\n"
   ]
  },
  {
   "cell_type": "code",
   "execution_count": 3,
   "metadata": {},
   "outputs": [
    {
     "name": "stdout",
     "output_type": "stream",
     "text": [
      "[[1 0 0]\n",
      " [0 1 0]\n",
      " [0 1 1]]\n"
     ]
    }
   ],
   "source": [
    "A = np.matrix([[1, 0, 0], [0, 1, 0], [0, 1, 1]])\n",
    "print(A)"
   ]
  },
  {
   "attachments": {},
   "cell_type": "markdown",
   "metadata": {},
   "source": [
    "Before I can use the HHL algorithm, we need to convert the non-hermitian matrix into a hermitian matrix form. We can complete this by performing the operation defined in the article. That is, define:\n",
    "$$A' = \\Bigg(\\begin{matrix}\n",
    "    0 & A \\\\\n",
    "    A^{\\dag} & 0 \\end{matrix}\\Bigg)$$\n",
    "A' is now hermitian and can be used to solve  $A'\\cdot y = \\Bigg[\\begin{matrix} b  \\\\ 0 \\end{matrix}\\Bigg]$; where $y = \\Bigg[\\begin{matrix} 0  \\\\ x \\end{matrix}\\Bigg]$"
   ]
  },
  {
   "cell_type": "code",
   "execution_count": 4,
   "metadata": {},
   "outputs": [
    {
     "name": "stdout",
     "output_type": "stream",
     "text": [
      "[[0 0 0 1 0 0]\n",
      " [0 0 0 0 1 0]\n",
      " [0 0 0 0 1 1]\n",
      " [1 0 0 0 0 0]\n",
      " [0 1 1 0 0 0]\n",
      " [0 0 1 0 0 0]]\n"
     ]
    }
   ],
   "source": [
    "# define a 3x3 zero matrix for aid in construction\n",
    "zero = np.matrix([[0, 0, 0], [0, 0, 0], [0, 0, 0]])\n",
    "\n",
    "# construct A' to be a hermitian matrix\n",
    "Ap = np.vstack((np.hstack((zero, A)), np.hstack((A.getH(), zero))))\n",
    "print(Ap)"
   ]
  },
  {
   "attachments": {},
   "cell_type": "markdown",
   "metadata": {},
   "source": [
    "HHL requires that the matrix $A$ is a $2^n x 2^n$ matrix. Our $A'$ is currently $6x6$, so we need to pad it to extend it to $8x8$. Our padding constraints need to maintain invertibility and hermitian-ness. To accomplish this, we pad the matrix to have 1's along the diagonal of the 2 added dimensions. For consistency, let's continue to call this matrix $A'$."
   ]
  },
  {
   "cell_type": "code",
   "execution_count": 19,
   "metadata": {},
   "outputs": [
    {
     "name": "stdout",
     "output_type": "stream",
     "text": [
      "[[0 0 0 1 0 0 0 0]\n",
      " [0 0 0 0 1 0 0 0]\n",
      " [0 0 0 0 1 1 0 0]\n",
      " [1 0 0 0 0 0 0 0]\n",
      " [0 1 1 0 0 0 0 0]\n",
      " [0 0 1 0 0 0 0 0]\n",
      " [0 0 0 0 0 0 1 0]\n",
      " [0 0 0 0 0 0 0 1]]\n"
     ]
    }
   ],
   "source": [
    "A_p = np.pad(Ap, ((0, 2), (0, 2)))\n",
    "\n",
    "# pad \n",
    "A_p[-1][-1], A_p[-2][-2] = 1, 1\n",
    "print(A_p)\n"
   ]
  },
  {
   "cell_type": "code",
   "execution_count": 20,
   "metadata": {},
   "outputs": [],
   "source": [
    "# initialize the b solution vector\n",
    "b = np.array([1, 2, 3])\n",
    "\n",
    "# pad the b array with 0's to be 8 by 1\n",
    "b_p = np.resize(np.append(b, [0, 0, 0, 0, 0]), (8, 1))"
   ]
  },
  {
   "cell_type": "code",
   "execution_count": 23,
   "metadata": {},
   "outputs": [
    {
     "data": {
      "text/plain": [
       "(8, 8)"
      ]
     },
     "execution_count": 23,
     "metadata": {},
     "output_type": "execute_result"
    }
   ],
   "source": [
    "A_p.shape"
   ]
  },
  {
   "attachments": {},
   "cell_type": "markdown",
   "metadata": {},
   "source": [
    "Before implementing HHL ourselves, let's test it using Qiskit's pre-made model of HHL to be sure that our inputs work and to save to compare to in later testing stages."
   ]
  },
  {
   "cell_type": "code",
   "execution_count": 24,
   "metadata": {},
   "outputs": [
    {
     "name": "stderr",
     "output_type": "stream",
     "text": [
      "/tmp/ipykernel_1014445/2941146640.py:5: DeprecationWarning: The HHL class is deprecated as of Qiskit Terra 0.22.0 and will be removed\n",
      "        no sooner than 3 months after the release date.\n",
      "        It is replaced by the tutorial at https://qiskit.org/textbook/ch-applications/hhl_tutorial.html\"\n",
      "        \n",
      "  hhl = HHL(quantum_instance=backend)\n"
     ]
    }
   ],
   "source": [
    "from qiskit import Aer\n",
    "from qiskit.algorithms.linear_solvers.hhl import HHL\n",
    "\n",
    "backend = Aer.get_backend('aer_simulator')\n",
    "hhl = HHL(quantum_instance=backend)\n",
    "\n",
    "accurate_solution = hhl.solve(A_p, b_p)\n"
   ]
  },
  {
   "attachments": {},
   "cell_type": "markdown",
   "metadata": {},
   "source": [
    "## Implementing the HHL algorithm"
   ]
  },
  {
   "attachments": {},
   "cell_type": "markdown",
   "metadata": {},
   "source": [
    "### Defining parameters"
   ]
  },
  {
   "cell_type": "code",
   "execution_count": 34,
   "metadata": {},
   "outputs": [],
   "source": [
    "t = 3000 # eep relatively large so that alpha in Eq (3) approximates as sync functions \n",
    "\n"
   ]
  },
  {
   "cell_type": "code",
   "execution_count": 40,
   "metadata": {},
   "outputs": [],
   "source": [
    "import scipy\n",
    "from qiskit.extensions import UnitaryGate"
   ]
  },
  {
   "cell_type": "code",
   "execution_count": 36,
   "metadata": {},
   "outputs": [],
   "source": [
    "U_mat = scipy.linalg.expm(1j*A_p*t)"
   ]
  },
  {
   "cell_type": "code",
   "execution_count": 44,
   "metadata": {},
   "outputs": [
    {
     "data": {
      "image/png": "[encoded data removed]",
      "text/plain": [
       "<Figure size 146.797x204.68 with 1 Axes>"
      ]
     },
     "execution_count": 44,
     "metadata": {},
     "output_type": "execute_result"
    }
   ],
   "source": [
    "\n",
    "U = UnitaryGate(U_mat)\n",
    "U.name = \"$U$\"\n",
    "\n",
    "circ = QuantumCircuit(3)\n",
    "circ.append(U, range(3))\n",
    "circ.draw('mpl')\n",
    "# then calculate eignevalues to see if they are nice...?"
   ]
  },
  {
   "cell_type": "code",
   "execution_count": null,
   "metadata": {},
   "outputs": [],
   "source": []
  }
 ],
 "metadata": {
  "interpreter": {
   "hash": "e7370f93d1d0cde622a1f8e1c04877d8463912d04d973331ad4851f04de6915a"
  },
  "kernelspec": {
   "display_name": "Python 3.10.8 64-bit",
   "language": "python",
   "name": "python3"
  },
  "language_info": {
   "codemirror_mode": {
    "name": "ipython",
    "version": 3
   },
   "file_extension": ".py",
   "mimetype": "text/x-python",
   "name": "python",
   "nbconvert_exporter": "python",
   "pygments_lexer": "ipython3",
   "version": "3.10.8"
  },
  "orig_nbformat": 4
 },
 "nbformat": 4,
 "nbformat_minor": 2
}
