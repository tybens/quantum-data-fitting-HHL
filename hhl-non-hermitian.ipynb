{
 "cells": [
  {
   "cell_type": "markdown",
   "metadata": {},
   "source": [
    "# ECE 396 - HHL Algorithm\n",
    "#### Problem 1: Implement a 3x3 invertible but non-hermitian A in Qiskit"
   ]
  },
  {
   "cell_type": "code",
   "execution_count": 2,
   "metadata": {},
   "outputs": [],
   "source": [
    "import numpy as np\n"
   ]
  },
  {
   "cell_type": "markdown",
   "metadata": {},
   "source": [
    "We need to define a 3 x 3 invertible but non-hermitian A in Qiskit. That is, the following two qualities must hold:\n",
    "$$AA^{-1} = A^{-1}A = I_n$$\n",
    "$$A \\neq A^{\\dag}$$\n",
    "If we restric ourselves to only real values, the matrix we can choose must then follow the two qualities: invertible and $A\\neq A^T$.\n",
    "\n",
    "One such matrix is the following:\n",
    "\n",
    "$$A = \\Bigg(\\begin{matrix}\n",
    "    1 & 0 & 0 \\\\\n",
    "    0 & 1 & 0 \\\\\n",
    "    0 & 1 & 1 \n",
    "\\end{matrix}\\Bigg)$$\n"
   ]
  },
  {
   "cell_type": "code",
   "execution_count": 3,
   "metadata": {},
   "outputs": [
    {
     "name": "stdout",
     "output_type": "stream",
     "text": [
      "[[1 0 0]\n",
      " [0 1 0]\n",
      " [0 1 1]]\n"
     ]
    }
   ],
   "source": [
    "A = np.array([[1, 0, 0], [0, 1, 0], [0, 1, 1]])\n",
    "print(A)"
   ]
  },
  {
   "cell_type": "code",
   "execution_count": 4,
   "metadata": {},
   "outputs": [],
   "source": [
    "b = np.array([1, 2, 3])"
   ]
  },
  {
   "cell_type": "markdown",
   "metadata": {},
   "source": [
    "Before I can use the HHL algorithm, we need to convert the non-hermitian matrix into a hermitian matrix form. We can complete this by performing the operation defined in the article. That is, define:\n",
    "$$C = \\Bigg(\\begin{matrix}\n",
    "    0 & A \\\\\n",
    "    A^{\\dag} & 0 \\end{matrix}\\Bigg)$$\n",
    "C is now hermitian and can be used to solve  $C\\cdot y = \\Bigg[\\begin{matrix} b  \\\\ 0 \\end{matrix}\\Bigg]$; where $y = \\Bigg[\\begin{matrix} 0  \\\\ x \\end{matrix}\\Bigg]$"
   ]
  },
  {
   "cell_type": "code",
   "execution_count": 5,
   "metadata": {},
   "outputs": [
    {
     "name": "stderr",
     "output_type": "stream",
     "text": [
      "/tmp/ipykernel_931172/524707097.py:5: DeprecationWarning: The HHL class is deprecated as of Qiskit Terra 0.22.0 and will be removed\n",
      "        no sooner than 3 months after the release date.\n",
      "        It is replaced by the tutorial at https://qiskit.org/textbook/ch-applications/hhl_tutorial.html\"\n",
      "        \n",
      "  hhl = HHL(quantum_instance=backend)\n"
     ]
    },
    {
     "ename": "QiskitError",
     "evalue": "'The number of rows of the isometry is not a non negative power of 2.'",
     "output_type": "error",
     "traceback": [
      "\u001b[0;31m---------------------------------------------------------------------------\u001b[0m",
      "\u001b[0;31mQiskitError\u001b[0m                               Traceback (most recent call last)",
      "\u001b[1;32m/home/tybens/Desktop/Junior/ECE396/finalproj/hhl-non-hermitian.ipynb Cell 7\u001b[0m in \u001b[0;36m<cell line: 9>\u001b[0;34m()\u001b[0m\n\u001b[1;32m      <a href='vscode-notebook-cell:/home/tybens/Desktop/Junior/ECE396/finalproj/hhl-non-hermitian.ipynb#W6sZmlsZQ%3D%3D?line=3'>4</a>\u001b[0m backend \u001b[39m=\u001b[39m Aer\u001b[39m.\u001b[39mget_backend(\u001b[39m'\u001b[39m\u001b[39maer_simulator\u001b[39m\u001b[39m'\u001b[39m)\n\u001b[1;32m      <a href='vscode-notebook-cell:/home/tybens/Desktop/Junior/ECE396/finalproj/hhl-non-hermitian.ipynb#W6sZmlsZQ%3D%3D?line=4'>5</a>\u001b[0m hhl \u001b[39m=\u001b[39m HHL(quantum_instance\u001b[39m=\u001b[39mbackend)\n\u001b[0;32m----> <a href='vscode-notebook-cell:/home/tybens/Desktop/Junior/ECE396/finalproj/hhl-non-hermitian.ipynb#W6sZmlsZQ%3D%3D?line=8'>9</a>\u001b[0m accurate_solution \u001b[39m=\u001b[39m hhl\u001b[39m.\u001b[39;49msolve(A, b)\n",
      "File \u001b[0;32m~/.local/lib/python3.10/site-packages/qiskit/algorithms/linear_solvers/hhl.py:542\u001b[0m, in \u001b[0;36mHHL.solve\u001b[0;34m(self, matrix, vector, observable, observable_circuit, post_processing)\u001b[0m\n\u001b[1;32m    537\u001b[0m         \u001b[39mraise\u001b[39;00m \u001b[39mValueError\u001b[39;00m(\n\u001b[1;32m    538\u001b[0m             \u001b[39m\"\u001b[39m\u001b[39mIf observable is passed, observable_circuit and post_processing cannot be set.\u001b[39m\u001b[39m\"\u001b[39m\n\u001b[1;32m    539\u001b[0m         )\n\u001b[1;32m    541\u001b[0m solution \u001b[39m=\u001b[39m LinearSolverResult()\n\u001b[0;32m--> 542\u001b[0m solution\u001b[39m.\u001b[39mstate \u001b[39m=\u001b[39m \u001b[39mself\u001b[39;49m\u001b[39m.\u001b[39;49mconstruct_circuit(matrix, vector)\n\u001b[1;32m    543\u001b[0m solution\u001b[39m.\u001b[39meuclidean_norm \u001b[39m=\u001b[39m \u001b[39mself\u001b[39m\u001b[39m.\u001b[39m_calculate_norm(solution\u001b[39m.\u001b[39mstate)\n\u001b[1;32m    545\u001b[0m \u001b[39mif\u001b[39;00m observable \u001b[39mis\u001b[39;00m \u001b[39mnot\u001b[39;00m \u001b[39mNone\u001b[39;00m \u001b[39mor\u001b[39;00m observable_circuit \u001b[39mis\u001b[39;00m \u001b[39mnot\u001b[39;00m \u001b[39mNone\u001b[39;00m:\n",
      "File \u001b[0;32m~/.local/lib/python3.10/site-packages/qiskit/algorithms/linear_solvers/hhl.py:357\u001b[0m, in \u001b[0;36mHHL.construct_circuit\u001b[0;34m(self, matrix, vector, neg_vals)\u001b[0m\n\u001b[1;32m    355\u001b[0m     nb \u001b[39m=\u001b[39m \u001b[39mint\u001b[39m(np\u001b[39m.\u001b[39mlog2(\u001b[39mlen\u001b[39m(vector)))\n\u001b[1;32m    356\u001b[0m     vector_circuit \u001b[39m=\u001b[39m QuantumCircuit(nb)\n\u001b[0;32m--> 357\u001b[0m     vector_circuit\u001b[39m.\u001b[39;49misometry(vector \u001b[39m/\u001b[39;49m np\u001b[39m.\u001b[39;49mlinalg\u001b[39m.\u001b[39;49mnorm(vector), \u001b[39mlist\u001b[39;49m(\u001b[39mrange\u001b[39;49m(nb)), \u001b[39mNone\u001b[39;49;00m)\n\u001b[1;32m    359\u001b[0m \u001b[39m# If state preparation is probabilistic the number of qubit flags should increase\u001b[39;00m\n\u001b[1;32m    360\u001b[0m nf \u001b[39m=\u001b[39m \u001b[39m1\u001b[39m\n",
      "File \u001b[0;32m~/.local/lib/python3.10/site-packages/qiskit/extensions/quantum_initializer/isometry.py:621\u001b[0m, in \u001b[0;36miso\u001b[0;34m(self, isometry, q_input, q_ancillas_for_output, q_ancillas_zero, q_ancillas_dirty, epsilon)\u001b[0m\n\u001b[1;32m    617\u001b[0m \u001b[39mif\u001b[39;00m \u001b[39misinstance\u001b[39m(q_ancillas_dirty, QuantumRegister):\n\u001b[1;32m    618\u001b[0m     q_ancillas_dirty \u001b[39m=\u001b[39m q_ancillas_dirty[:]\n\u001b[1;32m    620\u001b[0m \u001b[39mreturn\u001b[39;00m \u001b[39mself\u001b[39m\u001b[39m.\u001b[39mappend(\n\u001b[0;32m--> 621\u001b[0m     Isometry(isometry, \u001b[39mlen\u001b[39;49m(q_ancillas_zero), \u001b[39mlen\u001b[39;49m(q_ancillas_dirty), epsilon\u001b[39m=\u001b[39;49mepsilon),\n\u001b[1;32m    622\u001b[0m     q_input \u001b[39m+\u001b[39m q_ancillas_for_output \u001b[39m+\u001b[39m q_ancillas_zero \u001b[39m+\u001b[39m q_ancillas_dirty,\n\u001b[1;32m    623\u001b[0m )\n",
      "File \u001b[0;32m~/.local/lib/python3.10/site-packages/qiskit/extensions/quantum_initializer/isometry.py:86\u001b[0m, in \u001b[0;36mIsometry.__init__\u001b[0;34m(self, isometry, num_ancillas_zero, num_ancillas_dirty, epsilon)\u001b[0m\n\u001b[1;32m     84\u001b[0m m \u001b[39m=\u001b[39m np\u001b[39m.\u001b[39mlog2(isometry\u001b[39m.\u001b[39mshape[\u001b[39m1\u001b[39m])\n\u001b[1;32m     85\u001b[0m \u001b[39mif\u001b[39;00m \u001b[39mnot\u001b[39;00m n\u001b[39m.\u001b[39mis_integer() \u001b[39mor\u001b[39;00m n \u001b[39m<\u001b[39m \u001b[39m0\u001b[39m:\n\u001b[0;32m---> 86\u001b[0m     \u001b[39mraise\u001b[39;00m QiskitError(\n\u001b[1;32m     87\u001b[0m         \u001b[39m\"\u001b[39m\u001b[39mThe number of rows of the isometry is not a non negative power of 2.\u001b[39m\u001b[39m\"\u001b[39m\n\u001b[1;32m     88\u001b[0m     )\n\u001b[1;32m     89\u001b[0m \u001b[39mif\u001b[39;00m \u001b[39mnot\u001b[39;00m m\u001b[39m.\u001b[39mis_integer() \u001b[39mor\u001b[39;00m m \u001b[39m<\u001b[39m \u001b[39m0\u001b[39m:\n\u001b[1;32m     90\u001b[0m     \u001b[39mraise\u001b[39;00m QiskitError(\n\u001b[1;32m     91\u001b[0m         \u001b[39m\"\u001b[39m\u001b[39mThe number of columns of the isometry is not a non negative power of 2.\u001b[39m\u001b[39m\"\u001b[39m\n\u001b[1;32m     92\u001b[0m     )\n",
      "\u001b[0;31mQiskitError\u001b[0m: 'The number of rows of the isometry is not a non negative power of 2.'"
     ]
    }
   ],
   "source": [
    "from qiskit import Aer\n",
    "from qiskit.algorithms.linear_solvers.hhl import HHL\n",
    "\n",
    "backend = Aer.get_backend('aer_simulator')\n",
    "hhl = HHL(quantum_instance=backend)\n",
    "\n",
    "\n",
    "\n",
    "accurate_solution = hhl.solve(A, b)\n"
   ]
  },
  {
   "cell_type": "code",
   "execution_count": null,
   "metadata": {},
   "outputs": [],
   "source": []
  }
 ],
 "metadata": {
  "interpreter": {
   "hash": "e7370f93d1d0cde622a1f8e1c04877d8463912d04d973331ad4851f04de6915a"
  },
  "kernelspec": {
   "display_name": "Python 3.10.8 64-bit",
   "language": "python",
   "name": "python3"
  },
  "language_info": {
   "codemirror_mode": {
    "name": "ipython",
    "version": 3
   },
   "file_extension": ".py",
   "mimetype": "text/x-python",
   "name": "python",
   "nbconvert_exporter": "python",
   "pygments_lexer": "ipython3",
   "version": "3.10.8 (main, Nov  1 2022, 14:18:21) [GCC 12.2.0]"
  },
  "orig_nbformat": 4
 },
 "nbformat": 4,
 "nbformat_minor": 2
}
