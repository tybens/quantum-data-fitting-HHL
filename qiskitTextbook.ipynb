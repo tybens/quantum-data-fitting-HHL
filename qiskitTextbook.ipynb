{
 "cells": [
  {
   "cell_type": "code",
   "execution_count": 1,
   "id": "1d9af722",
   "metadata": {},
   "outputs": [
    {
     "name": "stderr",
     "output_type": "stream",
     "text": [
      "/var/folders/6h/ykcjq95d08x5lm109b9mkx080000gn/T/ipykernel_14387/176653027.py:6: DeprecationWarning: The HHL class is deprecated as of Qiskit Terra 0.22.0 and will be removed\n",
      "        no sooner than 3 months after the release date.\n",
      "        It is replaced by the tutorial at https://qiskit.org/textbook/ch-applications/hhl_tutorial.html\"\n",
      "        \n",
      "  naive_hhl_solution = HHL().solve(matrix, vector)\n"
     ]
    },
    {
     "name": "stdout",
     "output_type": "stream",
     "text": [
      "{   'circuit_results': None,\n",
      "    'euclidean_norm': 1.185854122563138,\n",
      "    'observable': None,\n",
      "    'state': <qiskit.circuit.quantumcircuit.QuantumCircuit object at 0x7ff303d81670>}\n"
     ]
    }
   ],
   "source": [
    "import numpy as np\n",
    "from qiskit.algorithms.linear_solvers.numpy_linear_solver import NumPyLinearSolver\n",
    "from qiskit.algorithms.linear_solvers.hhl import HHL\n",
    "matrix = np.array([[1, -1/3], [-1/3, 1]])\n",
    "vector = np.array([1, 0])\n",
    "naive_hhl_solution = HHL().solve(matrix, vector)\n",
    "\n",
    "print(naive_hhl_solution)"
   ]
  },
  {
   "cell_type": "code",
   "execution_count": 5,
   "id": "425f16db",
   "metadata": {},
   "outputs": [
    {
     "name": "stdout",
     "output_type": "stream",
     "text": [
      "{   'circuit_results': None,\n",
      "    'euclidean_norm': 1.1858541225631423,\n",
      "    'observable': None,\n",
      "    'state': array([1.125, 0.375])}\n"
     ]
    },
    {
     "name": "stderr",
     "output_type": "stream",
     "text": [
      "/var/folders/6h/ykcjq95d08x5lm109b9mkx080000gn/T/ipykernel_21447/2856223562.py:1: DeprecationWarning: The NumPyLinearSolver class is deprecated as of Qiskit Terra 0.22.0 and will be removed no sooner than 3 months after the release date. \n",
      "  classical_solution = NumPyLinearSolver().solve(matrix, vector / np.linalg.norm(vector))\n"
     ]
    }
   ],
   "source": [
    "classical_solution = NumPyLinearSolver().solve(matrix, vector / np.linalg.norm(vector))\n",
    "\n",
    "print(classical_solution)"
   ]
  },
  {
   "cell_type": "code",
   "execution_count": null,
   "id": "5ed3ba15",
   "metadata": {},
   "outputs": [],
   "source": []
  }
 ],
 "metadata": {
  "kernelspec": {
   "display_name": "Python 3 (ipykernel)",
   "language": "python",
   "name": "python3"
  },
  "language_info": {
   "codemirror_mode": {
    "name": "ipython",
    "version": 3
   },
   "file_extension": ".py",
   "mimetype": "text/x-python",
   "name": "python",
   "nbconvert_exporter": "python",
   "pygments_lexer": "ipython3",
   "version": "3.8.10"
  }
 },
 "nbformat": 4,
 "nbformat_minor": 5
}
