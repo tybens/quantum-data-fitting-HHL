{
 "cells": [
  {
   "cell_type": "markdown",
   "id": "54af3f05",
   "metadata": {},
   "source": [
    "# Eigenvalue Inversion"
   ]
  },
  {
   "cell_type": "code",
   "execution_count": 9,
   "id": "69e5f187",
   "metadata": {},
   "outputs": [],
   "source": [
    "from qiskit import( \n",
    "QuantumCircuit \n",
    ", execute \n",
    ", Aer \n",
    ", ClassicalRegister \n",
    ", QuantumRegister \n",
    ") \n",
    "import numpy as np"
   ]
  },
  {
   "cell_type": "markdown",
   "id": "20d78094",
   "metadata": {},
   "source": [
    "#### Computing eigenvalues\n",
    "\n",
    "We first learn what the eigenvalues are in order to know how to construct the gates. "
   ]
  },
  {
   "cell_type": "code",
   "execution_count": 85,
   "id": "94945494",
   "metadata": {},
   "outputs": [],
   "source": [
    "# paramaters\n",
    "n_l = 4 # number of qubits represenging eigenvalue approximation\n",
    "C = .01\n",
    "eigenvalues = ['1000','0001', '1110']\n"
   ]
  },
  {
   "cell_type": "code",
   "execution_count": 87,
   "id": "c454e440",
   "metadata": {},
   "outputs": [
    {
     "data": {
      "text/html": [
       "<pre style=\"word-wrap: normal;white-space: pre;background: #fff0;line-height: 1.1;font-family: &quot;Courier New&quot;,Courier,monospace\">        ┌─────────────────┐┌────────────────┐┌─────────────────┐\n",
       "q109_0: ┤ U(0.020001,0,0) ├┤ U(0.16069,0,0) ├┤ U(0.011429,0,0) ├\n",
       "        └────────┬────────┘└───────┬────────┘└────────┬────────┘\n",
       "q109_1: ─────────o─────────────────■──────────────────o─────────\n",
       "                 │                 │                  │         \n",
       "q109_2: ─────────o─────────────────o──────────────────■─────────\n",
       "                 │                 │                  │         \n",
       "q109_3: ─────────o─────────────────o──────────────────■─────────\n",
       "                 │                 │                  │         \n",
       "q109_4: ─────────■─────────────────o──────────────────■─────────\n",
       "                                                                </pre>"
      ],
      "text/plain": [
       "        ┌─────────────────┐┌────────────────┐┌─────────────────┐\n",
       "q109_0: ┤ U(0.020001,0,0) ├┤ U(0.16069,0,0) ├┤ U(0.011429,0,0) ├\n",
       "        └────────┬────────┘└───────┬────────┘└────────┬────────┘\n",
       "q109_1: ─────────o─────────────────■──────────────────o─────────\n",
       "                 │                 │                  │         \n",
       "q109_2: ─────────o─────────────────o──────────────────■─────────\n",
       "                 │                 │                  │         \n",
       "q109_3: ─────────o─────────────────o──────────────────■─────────\n",
       "                 │                 │                  │         \n",
       "q109_4: ─────────■─────────────────o──────────────────■─────────\n",
       "                                                                "
      ]
     },
     "execution_count": 87,
     "metadata": {},
     "output_type": "execute_result"
    }
   ],
   "source": [
    "# circuit construction\n",
    "from qiskit.circuit.library.standard_gates import UGate\n",
    "import math\n",
    "\n",
    "def theta_angle(C, eigenvalue_bin):\n",
    "    eigenvalue = int(eigenvalue_bin, 2)/(2**n_l)\n",
    "    ratio = C/eigenvalue\n",
    "    return math.asin(ratio)\n",
    "\n",
    "qr = QuantumRegister(n_l+1)\n",
    "qc = QuantumCircuit(qr)\n",
    "\n",
    "for ev in eigenvalues:\n",
    "    rot_angle = theta_angle(C, ev)\n",
    "    cu_gate = UGate(rot_angle, 0, 0).control(n_l, ctrl_state = ev)\n",
    "    wiring = [i for i in range(1, n_l+1)]+[0]\n",
    "    qc.append(cu_gate, wiring)\n",
    "qc.draw()\n"
   ]
  },
  {
   "cell_type": "code",
   "execution_count": null,
   "id": "e5284a3e",
   "metadata": {},
   "outputs": [],
   "source": []
  },
  {
   "cell_type": "code",
   "execution_count": null,
   "id": "11e79b73",
   "metadata": {},
   "outputs": [],
   "source": []
  }
 ],
 "metadata": {
  "kernelspec": {
   "display_name": "Python 3 (ipykernel)",
   "language": "python",
   "name": "python3"
  },
  "language_info": {
   "codemirror_mode": {
    "name": "ipython",
    "version": 3
   },
   "file_extension": ".py",
   "mimetype": "text/x-python",
   "name": "python",
   "nbconvert_exporter": "python",
   "pygments_lexer": "ipython3",
   "version": "3.8.10"
  }
 },
 "nbformat": 4,
 "nbformat_minor": 5
}
